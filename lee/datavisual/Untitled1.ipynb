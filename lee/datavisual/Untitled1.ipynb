{
 "cells": [
  {
   "cell_type": "code",
   "execution_count": null,
   "metadata": {},
   "outputs": [],
   "source": [
    "\n",
    "b=0\n",
    "for i in range(10,99):\n",
    "    if i % 2==0 and (i/10)>4 and (i%10)>(i/10):\n",
    "        b+=1\n",
    "        print(i)\n",
    "print(b)"
   ]
  },
  {
   "cell_type": "code",
   "execution_count": null,
   "metadata": {},
   "outputs": [],
   "source": [
    "all=1000\n",
    "b=all-200\n",
    "\n",
    "\n",
    "i=987\n",
    "i=str(i)\n",
    "b=\",\".join(i)\n",
    "print(b)\n"
   ]
  },
  {
   "cell_type": "code",
   "execution_count": null,
   "metadata": {},
   "outputs": [],
   "source": [
    "while True:\n",
    "    x=int(input(\"첫번째 숫자입력\"))\n",
    "    y=int(input(\"두번째 숫자 입력\"))\n",
    "    x1=x/10\n",
    "    x10=x%10\n",
    "    y1=y/10\n",
    "    y10=y%10\n",
    "    \n",
    "    a=((x1+y1)*10)+x10+y10\n",
    "    print(a)"
   ]
  },
  {
   "cell_type": "code",
   "execution_count": 9,
   "metadata": {},
   "outputs": [
    {
     "name": "stdout",
     "output_type": "stream",
     "text": [
      "981\n"
     ]
    }
   ],
   "source": [
    "for i in range(100,1000):\n",
    "    c=str(i)\n",
    "    d=\"\"\n",
    "    z=0\n",
    "    if c[0]!=c[1] and c[1]!=c[2] and c[2]!=c[0]:\n",
    "        i=int(c)\n",
    "        if  c[1]== '8' and int(c[2])+int(c[1])==int(c[0]):\n",
    "            print(i)\n",
    "    \n",
    "    "
   ]
  },
  {
   "cell_type": "code",
   "execution_count": 1,
   "metadata": {},
   "outputs": [],
   "source": [
    "import numpy as np"
   ]
  },
  {
   "cell_type": "code",
   "execution_count": 2,
   "metadata": {},
   "outputs": [
    {
     "name": "stdout",
     "output_type": "stream",
     "text": [
      "행렬입력6\n",
      "[[ 1.  4.  9. 16. 25. 36.]\n",
      " [ 2.  3.  8. 15. 24. 35.]\n",
      " [ 5.  6.  7. 14. 23. 34.]\n",
      " [10. 11. 12. 13. 22. 33.]\n",
      " [17. 18. 19. 20. 21. 32.]\n",
      " [26. 27. 28. 29. 30. 31.]]\n"
     ]
    }
   ],
   "source": [
    "c=int(input(\"행렬입력\"))\n",
    "\n",
    "g=np.zeros((c,c))\n",
    "d=0\n",
    "for i in range(1,c+1):\n",
    "    for b in range(1,i*2):\n",
    "        d+=1\n",
    "        if i<b:\n",
    "            g[(i*2-1)-b,i-1]=d\n",
    "        elif i>b:\n",
    "             g[i-1,b-1]=d\n",
    "        else:\n",
    "            g[i-1,i-1]=d\n",
    "\n",
    "print(g)"
   ]
  },
  {
   "cell_type": "code",
   "execution_count": null,
   "metadata": {},
   "outputs": [],
   "source": []
  }
 ],
 "metadata": {
  "kernelspec": {
   "display_name": "Python 2",
   "language": "python",
   "name": "python2"
  },
  "language_info": {
   "codemirror_mode": {
    "name": "ipython",
    "version": 2
   },
   "file_extension": ".py",
   "mimetype": "text/x-python",
   "name": "python",
   "nbconvert_exporter": "python",
   "pygments_lexer": "ipython2",
   "version": "2.7.16"
  }
 },
 "nbformat": 4,
 "nbformat_minor": 2
}
