{
 "cells": [
  {
   "cell_type": "code",
   "execution_count": 14,
   "metadata": {},
   "outputs": [
    {
     "name": "stdout",
     "output_type": "stream",
     "text": [
      "Extracting ./mnist/data/train-images-idx3-ubyte.gz\n",
      "Extracting ./mnist/data/train-labels-idx1-ubyte.gz\n",
      "Extracting ./mnist/data/t10k-images-idx3-ubyte.gz\n",
      "Extracting ./mnist/data/t10k-labels-idx1-ubyte.gz\n"
     ]
    }
   ],
   "source": [
    "import tensorflow as tf\n",
    "import numpy as np\n",
    "import matplotlib.pyplot as plt\n",
    "import random\n",
    "from tensorflow.examples.tutorials.mnist import input_data\n",
    "\n",
    "#데이터 읽기\n",
    "mnist = input_data.read_data_sets(\"./mnist/data/\", one_hot=True)\n",
    "\n",
    "#Tensor 및 Flow 정의\n",
    "# 28X28개의 데이터가 입력됨\n",
    "X = tf.placeholder(tf.float32, [None, 784])\n",
    "\n",
    "# 10개의 결과가 출력됨(ONEHOT 방식)\n",
    "Y = tf.placeholder(tf.float32, [None, 10]) \n",
    "\n",
    "#입력층 설계\n",
    "W1 = tf.Variable(tf.random_normal([784,256], stddev=0.01))\n",
    "b1 = tf.Variable(tf.random_normal([256], stddev=0.01))\n",
    "L1 = tf.nn.relu(tf.matmul(X, W1)+b1)\n",
    "\n",
    "#은닉층 설계\n",
    "W2 = tf.Variable(tf.random_normal([256, 256], stddev=0.01))\n",
    "b2 = tf.Variable(tf.random_normal([256], stddev=0.01))\n",
    "L2 = tf.nn.relu(tf.matmul(L1, W2)+b2)\n",
    "\n",
    "#출력층 설계\n",
    "W3=tf.Variable(tf.random_normal([256,10], stddev=0.01))\n",
    "b3 = tf.Variable(tf.random_normal([10], stddev=0.01))\n",
    "L3 = tf.matmul(L2, W3) + b3\n",
    "\n",
    "#L3의 결과는 소프트 맥스를 통해 ONEHOT 방식으로 변환됨\n",
    "#코스트 계산은 소프트맥스의 엔트로피 방식을 이용\n",
    "S = tf.nn.softmax_cross_entropy_with_logits_v2(logits=L3, labels=Y)\n",
    "cost = tf.reduce_mean(S)\n",
    "\n",
    "# 옵티마이저는 아담옵티마이저 사용\n",
    "optimizer = tf.train.AdamOptimizer(0.001).minimize(cost)\n",
    "init = tf.global_variables_initializer()"
   ]
  },
  {
   "cell_type": "code",
   "execution_count": 15,
   "metadata": {},
   "outputs": [
    {
     "name": "stdout",
     "output_type": "stream",
     "text": [
      "Epoch: 0001 Avg. cost =  0.403\n",
      "Epoch: 0002 Avg. cost =  0.151\n",
      "Epoch: 0003 Avg. cost =  0.097\n",
      "Epoch: 0004 Avg. cost =  0.072\n",
      "Epoch: 0005 Avg. cost =  0.054\n",
      "Epoch: 0006 Avg. cost =  0.041\n",
      "Epoch: 0007 Avg. cost =  0.032\n",
      "Epoch: 0008 Avg. cost =  0.027\n",
      "Epoch: 0009 Avg. cost =  0.022\n",
      "Epoch: 0010 Avg. cost =  0.017\n",
      "optimizer complete!\n",
      "Accuracy : 0.9768\n"
     ]
    }
   ],
   "source": [
    "#실행부분\n",
    "sess = tf.Session()  \n",
    "sess.run(init)\n",
    "\n",
    "#한번에 학습시킬 샘플의 크기.\n",
    "batch_size = 100\n",
    "\n",
    "#10회 반복 강화학습.\n",
    "epoch_cnt = 10\n",
    "\n",
    "#1 epoch의 반복횟수 정하기 (학습데이터샘플 / batch_size)\n",
    "total_batch = int(mnist.train.num_examples / batch_size) \n",
    "\n",
    "#epoch_cnt수만큼 epoch 실행\n",
    "for epoch in range(epoch_cnt):\n",
    "    total_cost = 0\n",
    "    \n",
    "    #total_batch회 반복하여 1epoch를 실행\n",
    "    for i in range(total_batch):\n",
    "        #100개의 데이터를 학습데이터로 읽어옴.\n",
    "        batch_xs, batch_ys = mnist.train.next_batch(batch_size)\n",
    "        \n",
    "        #학습진행 후 100회학습마다 코스트 계산\n",
    "        _, cost_val = sess.run([optimizer, cost], feed_dict = {X: batch_xs, Y:batch_ys})\n",
    "        \n",
    "        #반복마다 코스트 누적\n",
    "        total_cost += cost_val\n",
    "\n",
    "    #반복이 끝난후 각 epoch 마다평균 코스트를 ㅊ ㅜㄹ력\n",
    "    print('Epoch:', '%04d' % (epoch + 1), 'Avg. cost = ', '{:.3f}'.format(total_cost / total_batch))\n",
    "\n",
    "print('optimizer complete!')\n",
    "is_correct = tf.equal(tf.argmax(L3, 1), tf.argmax(Y, 1))\n",
    "accuracy = tf.reduce_mean(tf.cast(is_correct, tf.float32))\n",
    "\n",
    "#검증 데이터를 이용한 성능 검증.\n",
    "print('Accuracy :', sess.run(accuracy, feed_dict={X: mnist.test.images, Y:mnist.test.labels}))\n",
    "\n"
   ]
  },
  {
   "cell_type": "code",
   "execution_count": 16,
   "metadata": {},
   "outputs": [
    {
     "data": {
      "image/png": "[encoded data removed]",
      "text/plain": [
       "<Figure size 360x432 with 20 Axes>"
      ]
     },
     "metadata": {},
     "output_type": "display_data"
    }
   ],
   "source": [
    "labels = sess.run(L3, feed_dict = { X: mnist.test.images, Y:mnist.test.labels })\n",
    "fig = plt.figure(figsize=(5,6))\n",
    "for i in range(20):\n",
    "    r = random.randint(1, mnist.test.num_examples - 1)\n",
    "    subplot = fig.add_subplot(4, 5, i+1)\n",
    "    subplot.set_xticks([])\n",
    "    subplot.set_yticks([])\n",
    "    subplot.set_title('%d' % np.argmax(labels[r]))\n",
    "    subplot.imshow(mnist.test.images[r].reshape((28, 28)), cmap=plt.cm.gray_r)\n",
    "\n",
    "plt.show()"
   ]
  },
  {
   "cell_type": "code",
   "execution_count": 3,
   "metadata": {},
   "outputs": [
    {
     "data": {
      "text/plain": [
       "55000"
      ]
     },
     "execution_count": 3,
     "metadata": {},
     "output_type": "execute_result"
    }
   ],
   "source": []
  }
 ],
 "metadata": {
  "kernelspec": {
   "display_name": "Python 3",
   "language": "python",
   "name": "python3"
  },
  "language_info": {
   "codemirror_mode": {
    "name": "ipython",
    "version": 3
   },
   "file_extension": ".py",
   "mimetype": "text/x-python",
   "name": "python",
   "nbconvert_exporter": "python",
   "pygments_lexer": "ipython3",
   "version": "3.7.3"
  }
 },
 "nbformat": 4,
 "nbformat_minor": 2
}
