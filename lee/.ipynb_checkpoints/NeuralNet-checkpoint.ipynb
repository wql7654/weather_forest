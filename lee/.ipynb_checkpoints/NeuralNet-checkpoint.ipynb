{
 "cells": [
  {
   "cell_type": "code",
   "execution_count": 1,
   "metadata": {},
   "outputs": [
    {
     "name": "stderr",
     "output_type": "stream",
     "text": [
      "WARNING: Logging before flag parsing goes to stderr.\n",
      "W0903 09:41:17.325280 17476 deprecation.py:323] From <ipython-input-1-83126fd6e4f9>:8: read_data_sets (from tensorflow.contrib.learn.python.learn.datasets.mnist) is deprecated and will be removed in a future version.\n",
      "Instructions for updating:\n",
      "Please use alternatives such as official/mnist/dataset.py from tensorflow/models.\n",
      "W0903 09:41:17.325280 17476 deprecation.py:323] From C:\\Users\\noteland\\Anaconda3\\lib\\site-packages\\tensorflow\\contrib\\learn\\python\\learn\\datasets\\mnist.py:260: maybe_download (from tensorflow.contrib.learn.python.learn.datasets.base) is deprecated and will be removed in a future version.\n",
      "Instructions for updating:\n",
      "Please write your own downloading logic.\n",
      "W0903 09:41:17.325280 17476 deprecation.py:323] From C:\\Users\\noteland\\Anaconda3\\lib\\site-packages\\tensorflow\\contrib\\learn\\python\\learn\\datasets\\base.py:252: _internal_retry.<locals>.wrap.<locals>.wrapped_fn (from tensorflow.contrib.learn.python.learn.datasets.base) is deprecated and will be removed in a future version.\n",
      "Instructions for updating:\n",
      "Please use urllib or similar directly.\n",
      "W0903 09:41:18.101756 17476 deprecation.py:323] From C:\\Users\\noteland\\Anaconda3\\lib\\site-packages\\tensorflow\\contrib\\learn\\python\\learn\\datasets\\mnist.py:262: extract_images (from tensorflow.contrib.learn.python.learn.datasets.mnist) is deprecated and will be removed in a future version.\n",
      "Instructions for updating:\n",
      "Please use tf.data to implement this functionality.\n"
     ]
    },
    {
     "name": "stdout",
     "output_type": "stream",
     "text": [
      "Successfully downloaded train-images-idx3-ubyte.gz 9912422 bytes.\n",
      "Extracting ./mnist/data/train-images-idx3-ubyte.gz\n"
     ]
    },
    {
     "name": "stderr",
     "output_type": "stream",
     "text": [
      "W0903 09:41:18.535232 17476 deprecation.py:323] From C:\\Users\\noteland\\Anaconda3\\lib\\site-packages\\tensorflow\\contrib\\learn\\python\\learn\\datasets\\mnist.py:267: extract_labels (from tensorflow.contrib.learn.python.learn.datasets.mnist) is deprecated and will be removed in a future version.\n",
      "Instructions for updating:\n",
      "Please use tf.data to implement this functionality.\n",
      "W0903 09:41:18.535232 17476 deprecation.py:323] From C:\\Users\\noteland\\Anaconda3\\lib\\site-packages\\tensorflow\\contrib\\learn\\python\\learn\\datasets\\mnist.py:110: dense_to_one_hot (from tensorflow.contrib.learn.python.learn.datasets.mnist) is deprecated and will be removed in a future version.\n",
      "Instructions for updating:\n",
      "Please use tf.one_hot on tensors.\n"
     ]
    },
    {
     "name": "stdout",
     "output_type": "stream",
     "text": [
      "Successfully downloaded train-labels-idx1-ubyte.gz 28881 bytes.\n",
      "Extracting ./mnist/data/train-labels-idx1-ubyte.gz\n",
      "Successfully downloaded t10k-images-idx3-ubyte.gz 1648877 bytes.\n",
      "Extracting ./mnist/data/t10k-images-idx3-ubyte.gz\n"
     ]
    },
    {
     "name": "stderr",
     "output_type": "stream",
     "text": [
      "W0903 09:41:19.227970 17476 deprecation.py:323] From C:\\Users\\noteland\\Anaconda3\\lib\\site-packages\\tensorflow\\contrib\\learn\\python\\learn\\datasets\\mnist.py:290: DataSet.__init__ (from tensorflow.contrib.learn.python.learn.datasets.mnist) is deprecated and will be removed in a future version.\n",
      "Instructions for updating:\n",
      "Please use alternatives such as official/mnist/dataset.py from tensorflow/models.\n"
     ]
    },
    {
     "name": "stdout",
     "output_type": "stream",
     "text": [
      "Successfully downloaded t10k-labels-idx1-ubyte.gz 4542 bytes.\n",
      "Extracting ./mnist/data/t10k-labels-idx1-ubyte.gz\n"
     ]
    }
   ],
   "source": [
    "import tensorflow as tf\n",
    "import numpy as np\n",
    "import matplotlib.pyplot as plt\n",
    "import random\n",
    "from tensorflow.examples.tutorials.mnist import input_data\n",
    "\n",
    "#데이터 읽기\n",
    "mnist = input_data.read_data_sets(\"./mnist/data/\", one_hot=True)\n",
    "\n",
    "#Tensor 및 Flow 정의\n",
    "# 28X28개의 데이터가 입력됨\n",
    "X = tf.placeholder(tf.float32, [None, 784])\n",
    "\n",
    "# 10개의 결과가 나감(ONEHOT 방식)\n",
    "Y = tf.placeholder(tf.float32, [None, 10]) \n",
    "\n",
    "#입력층 설계\n",
    "W1 = tf.Variable(tf.random_normal([784,256], stddev=0.01))\n",
    "b1 = tf.Variable(tf.random_normal([256], stddev=0.01))\n",
    "L1 = tf.nn.relu(tf.matmul(X, W1)+b1)\n",
    "\n",
    "#은닉층 설계\n",
    "W2 = tf.Variable(tf.random_normal([256, 256], stddev=0.01))\n",
    "b2 = tf.Variable(tf.random_normal([256], stddev=0.01))\n",
    "L2 = tf.nn.relu(tf.matmul(L1, W2)+b2)\n",
    "\n",
    "#출력층 설계\n",
    "W3=tf.Variable(tf.random_normal([256,10], stddev=0.01))\n",
    "b3 = tf.Variable(tf.random_normal([10], stddev=0.01))\n",
    "model = tf.matmul(L2, W3) + b3\n",
    "\n",
    "#코스트함수 설정(소프트맥스 앤트로피)\n",
    "S = tf.nn.softmax_cross_entropy_with_logits_v2(logits=model, labels=Y)\n",
    "cost = tf.reduce_mean(S)\n",
    "\n",
    "# 옵티마이저는 아담옵티마이저 사용\n",
    "optimizer = tf.train.AdamOptimizer(0.001).minimize(cost)\n",
    "init = tf.global_variables_initializer()"
   ]
  },
  {
   "cell_type": "code",
   "execution_count": 2,
   "metadata": {},
   "outputs": [
    {
     "name": "stdout",
     "output_type": "stream",
     "text": [
      "Epoch: 0001 Avg. cost =  0.413\n",
      "Epoch: 0002 Avg. cost =  0.152\n",
      "Epoch: 0003 Avg. cost =  0.102\n",
      "Epoch: 0004 Avg. cost =  0.073\n",
      "Epoch: 0005 Avg. cost =  0.056\n",
      "Epoch: 0006 Avg. cost =  0.041\n",
      "Epoch: 0007 Avg. cost =  0.034\n",
      "Epoch: 0008 Avg. cost =  0.031\n",
      "Epoch: 0009 Avg. cost =  0.021\n",
      "Epoch: 0010 Avg. cost =  0.017\n",
      "optimizer complete!\n",
      "Accuracy : 0.9808\n"
     ]
    }
   ],
   "source": [
    "#실행부분\n",
    "sess = tf.Session()  \n",
    "sess.run(init)\n",
    "batch_size = 100\n",
    "epoch_cnt = 10\n",
    "total_batch = int(mnist.train.num_examples / batch_size)\n",
    "\n",
    "for epoch in range(epoch_cnt):\n",
    "    total_cost = 0\n",
    "    for i in range(total_batch):\n",
    "        batch_xs, batch_ys = mnist.train.next_batch(batch_size)\n",
    "        _, cost_val = sess.run([optimizer, cost], feed_dict = {X: batch_xs, Y:batch_ys})\n",
    "        total_cost += cost_val\n",
    "\n",
    "    print('Epoch:', '%04d' % (epoch + 1), 'Avg. cost = ', '{:.3f}'.format(total_cost / total_batch))\n",
    "\n",
    "print('optimizer complete!')\n",
    "is_correct = tf.equal(tf.argmax(model, 1), tf.argmax(Y, 1))\n",
    "accuracy = tf.reduce_mean(tf.cast(is_correct, tf.float32))\n",
    "\n",
    "print('Accuracy :', sess.run(accuracy, feed_dict={X: mnist.test.images, Y:mnist.test.labels}))\n",
    "\n",
    "\n",
    "labels = sess.run(model, feed_dict = { X: mnist.test.images, Y:mnist.test.labels })\n"
   ]
  },
  {
   "cell_type": "code",
   "execution_count": 3,
   "metadata": {},
   "outputs": [
    {
     "data": {
      "image/png": "[encoded data removed]",
      "text/plain": [
       "<Figure size 360x432 with 20 Axes>"
      ]
     },
     "metadata": {},
     "output_type": "display_data"
    }
   ],
   "source": [
    "fig = plt.figure(figsize=(5,6))\n",
    "for i in range(20):\n",
    "    r = random.randint(1, mnist.test.num_examples - 1)\n",
    "    subplot = fig.add_subplot(4, 5, i+1)\n",
    "    subplot.set_xticks([])\n",
    "    subplot.set_yticks([])\n",
    "    subplot.set_title('%d' % np.argmax(labels[r]))\n",
    "    subplot.imshow(mnist.test.images[r].reshape((28, 28)), cmap=plt.cm.gray_r)\n",
    "\n",
    "plt.show()"
   ]
  },
  {
   "cell_type": "code",
   "execution_count": 3,
   "metadata": {},
   "outputs": [
    {
     "data": {
      "text/plain": [
       "55000"
      ]
     },
     "execution_count": 3,
     "metadata": {},
     "output_type": "execute_result"
    }
   ],
   "source": []
  }
 ],
 "metadata": {
  "kernelspec": {
   "display_name": "Python 3",
   "language": "python",
   "name": "python3"
  },
  "language_info": {
   "codemirror_mode": {
    "name": "ipython",
    "version": 3
   },
   "file_extension": ".py",
   "mimetype": "text/x-python",
   "name": "python",
   "nbconvert_exporter": "python",
   "pygments_lexer": "ipython3",
   "version": "3.7.3"
  }
 },
 "nbformat": 4,
 "nbformat_minor": 2
}
